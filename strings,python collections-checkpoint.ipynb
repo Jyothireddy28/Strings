{
 "cells": [
  {
   "cell_type": "code",
   "execution_count": 2,
   "id": "c0672a11-019f-46d0-bec3-25b86fc59ba9",
   "metadata": {},
   "outputs": [
    {
     "name": "stdin",
     "output_type": "stream",
     "text": [
      "enter the text umbrella\n"
     ]
    },
    {
     "name": "stdout",
     "output_type": "stream",
     "text": [
      "8\n"
     ]
    }
   ],
   "source": [
    "n=input(\"enter the text\")\n",
    "print(len(n))"
   ]
  },
  {
   "cell_type": "code",
   "execution_count": 1,
   "id": "32891eb8-e936-4955-ac3b-aa7318d59b0b",
   "metadata": {},
   "outputs": [
    {
     "name": "stdout",
     "output_type": "stream",
     "text": [
      "enter a textprogramming is fun\n",
      "{'p': 1, 'r': 2, 'o': 1, 'g': 2, 'a': 1, 'm': 2, 'i': 2, 'n': 2, ' ': 2, 's': 1, 'f': 1, 'u': 1} occured in text\n"
     ]
    }
   ],
   "source": [
    "s=input(\"enter a text\")\n",
    "c={}\n",
    "for i in s:\n",
    "    if i in c:\n",
    "       c[i]=c[i]+1\n",
    "    else:\n",
    "        c[i]=1\n",
    "print(c,\"occured in text\")\n"
   ]
  },
  {
   "cell_type": "code",
   "execution_count": 2,
   "id": "1f3d1034-f297-43bb-99f5-cf5177b33a73",
   "metadata": {},
   "outputs": [
    {
     "name": "stdout",
     "output_type": "stream",
     "text": [
      "{'The': 3, 'quick': 5, 'brown': 5, 'fox': 3, 'jumps': 5, 'over': 4, 'the': 3, 'lazy': 4, 'dog': 3}\n"
     ]
    }
   ],
   "source": [
    "# 2. Word Length Mapping\n",
    "a=\"The quick brown fox jumps over the lazy dog\"\n",
    "d={}\n",
    "b=a.split()\n",
    "c=dict(map(lambda x:(x,len(x)),b))\n",
    "# for i in range(len(b)):\n",
    "#     d[b[i]] = c[i]\n",
    "# print(d)\n",
    "print(c)"
   ]
  },
  {
   "cell_type": "code",
   "execution_count": null,
   "id": "a2dda816-1c2a-4d51-93ae-07734452c353",
   "metadata": {},
   "outputs": [],
   "source": []
  },
  {
   "cell_type": "code",
   "execution_count": 4,
   "id": "21f817ab-0d06-428c-bad1-75a41a8a7ae6",
   "metadata": {},
   "outputs": [
    {
     "name": "stdout",
     "output_type": "stream",
     "text": [
      "Enter a text: swiss\n",
      "{'p': 1, 'r': 2, 'o': 1, 'g': 2, 'a': 1, 'm': 2, 'i': 2, 'n': 2, ' ': 2, 's': 1, 'f': 1, 'u': 1}\n"
     ]
    }
   ],
   "source": [
    "s1 = input(\"Enter a text: \")\n",
    "w = s1.split()\n",
    "C=dict(map(lambda x:(x,len(x)),w))\n",
    "print(c)"
   ]
  },
  {
   "cell_type": "code",
   "execution_count": 5,
   "id": "d716fbfc-2735-4304-a1b4-446453dfde86",
   "metadata": {},
   "outputs": [
    {
     "name": "stdout",
     "output_type": "stream",
     "text": [
      "{'ban': 2, 'ana': 2, 'na': 3}\n"
     ]
    }
   ],
   "source": [
    "s1 = \"banana bandana\"\n",
    "substrings = [\"ban\", \"ana\", \"na\"]\n",
    "\n",
    "result = {}\n",
    "for substring in substrings:\n",
    "    result[substring] = s1.count(substring)\n",
    "\n",
    "print(result)"
   ]
  },
  {
   "cell_type": "code",
   "execution_count": 1,
   "id": "41873c56",
   "metadata": {},
   "outputs": [
    {
     "name": "stdin",
     "output_type": "stream",
     "text": [
      "enter the text varun\n"
     ]
    },
    {
     "name": "stdout",
     "output_type": "stream",
     "text": [
      "varun contains 5 words\n"
     ]
    }
   ],
   "source": [
    "n=input(\"enter the text\")\n",
    "words=0\n",
    "for i in n:\n",
    "    words=words+1\n",
    "print(n,\"contains\",words,\"words\")"
   ]
  },
  {
   "cell_type": "code",
   "execution_count": 2,
   "id": "07d2be00-1efc-4459-b4ca-0949462432a4",
   "metadata": {},
   "outputs": [
    {
     "name": "stdin",
     "output_type": "stream",
     "text": [
      "enter the text umbrella\n"
     ]
    },
    {
     "name": "stdout",
     "output_type": "stream",
     "text": [
      "8\n"
     ]
    }
   ],
   "source": [
    "n=input(\"enter the text\")\n",
    "a=len(n)\n",
    "print(a)"
   ]
  },
  {
   "cell_type": "code",
   "execution_count": 3,
   "id": "8e2b1ac8-bd81-4788-8ba9-ae47840832a6",
   "metadata": {},
   "outputs": [
    {
     "name": "stdin",
     "output_type": "stream",
     "text": [
      "enter the text finland\n",
      "enter the character n\n"
     ]
    },
    {
     "name": "stdout",
     "output_type": "stream",
     "text": [
      "2 times character is occured\n"
     ]
    }
   ],
   "source": [
    "n1=input(\"enter the text\")\n",
    "n2=input(\"enter the character\")\n",
    "c=0\n",
    "for f in n1:\n",
    "    if(f==n2):\n",
    "        c=c+1\n",
    "print(c,\"times character is occured\")\n",
    "\n",
    "    "
   ]
  },
  {
   "cell_type": "code",
   "execution_count": 4,
   "id": "2af2354a-b985-43c7-9a17-518233da8ecd",
   "metadata": {},
   "outputs": [
    {
     "name": "stdin",
     "output_type": "stream",
     "text": [
      "enter the text workbook\n",
      "enter the characters k\n"
     ]
    },
    {
     "name": "stdout",
     "output_type": "stream",
     "text": [
      "['workbook']\n"
     ]
    }
   ],
   "source": [
    "n1=input(\"enter the text\")\n",
    "n2=input(\"enter the characters\")\n",
    "a=n1.split()\n",
    "print(a)\n"
   ]
  },
  {
   "cell_type": "code",
   "execution_count": 5,
   "id": "6b2f48d3-7f61-4304-b991-5d9d83df53c5",
   "metadata": {},
   "outputs": [
    {
     "name": "stdout",
     "output_type": "stream",
     "text": [
      "['KIRAN', 'AMAR', 'SREEKAR', 'ARUNA']\n"
     ]
    }
   ],
   "source": [
    "names=['kiran','amar','sreekar','aruna']\n",
    "uppered_names=[]\n",
    "uppered_names=list(map(str.upper,names))\n",
    "print(uppered_names)"
   ]
  },
  {
   "cell_type": "code",
   "execution_count": 6,
   "id": "d03a00bc-cd1e-4bd3-8dee-1bccc70e7f26",
   "metadata": {},
   "outputs": [
    {
     "name": "stdout",
     "output_type": "stream",
     "text": [
      "['kiran', 'amar', 'sreekar', 'aruna']\n"
     ]
    }
   ],
   "source": [
    "names=['KIRAN','AMAR','SREEKAR','ARUNA']\n",
    "lowered_names=[]\n",
    "lowered_names=list(map(str.lower,names))\n",
    "print(lowered_names)"
   ]
  },
  {
   "cell_type": "code",
   "execution_count": 7,
   "id": "838232b5-acb5-4455-a059-8620d2bc5ae3",
   "metadata": {},
   "outputs": [
    {
     "name": "stdin",
     "output_type": "stream",
     "text": [
      "enter the text jyothi\n"
     ]
    },
    {
     "name": "stdout",
     "output_type": "stream",
     "text": [
      "6\n"
     ]
    }
   ],
   "source": [
    "n=input(\"enter the text\")\n",
    "print(len(n))"
   ]
  },
  {
   "cell_type": "code",
   "execution_count": 8,
   "id": "e1f03cdd-4e7c-4b1a-aa5e-7e5edc048377",
   "metadata": {},
   "outputs": [
    {
     "name": "stdin",
     "output_type": "stream",
     "text": [
      "enter the text tree\n"
     ]
    },
    {
     "name": "stdout",
     "output_type": "stream",
     "text": [
      "4\n"
     ]
    }
   ],
   "source": [
    "n=input(\"enter the text\")#tree\n",
    "c=0\n",
    "for i in n:\n",
    "    c=c+1\n",
    "print(c)"
   ]
  },
  {
   "cell_type": "code",
   "execution_count": 9,
   "id": "8e4ebc28-c81b-4154-8d05-3cc382aaff04",
   "metadata": {},
   "outputs": [
    {
     "name": "stdin",
     "output_type": "stream",
     "text": [
      "enter the text umbrella\n"
     ]
    },
    {
     "name": "stdout",
     "output_type": "stream",
     "text": [
      "uma\n"
     ]
    }
   ],
   "source": [
    "n=input(\"enter the text\")\n",
    "x=(n[:2]+n[7:9])\n",
    "if len(x)>2:\n",
    "   print(x)\n",
    "else:\n",
    "   print(\"word cannot form\")\n"
   ]
  },
  {
   "cell_type": "code",
   "execution_count": 13,
   "id": "5c48fac4-e2ba-4b6f-a146-29c6d7203771",
   "metadata": {},
   "outputs": [
    {
     "name": "stdin",
     "output_type": "stream",
     "text": [
      "enter the text sun\n"
     ]
    },
    {
     "name": "stdout",
     "output_type": "stream",
     "text": [
      "4\n"
     ]
    }
   ],
   "source": [
    "n=input(\"enter the text\")#no.of words=word=group of char =string\n",
    "c=0\n",
    "str=0\n",
    "for i in n:\n",
    "    c=c+1\n",
    "    str=c+1\n",
    "print(str)"
   ]
  },
  {
   "cell_type": "code",
   "execution_count": 19,
   "id": "6536291c-deaf-4ee5-bc67-15b3b792284f",
   "metadata": {},
   "outputs": [
    {
     "name": "stdout",
     "output_type": "stream",
     "text": [
      "0\n"
     ]
    }
   ],
   "source": [
    "s1='thisissampletext'\n",
    "wc=0\n",
    "for i in range(len(s1)):\n",
    "    if s1[i]==s1:\n",
    "\t    wc=wc+1\n",
    "print(wc)"
   ]
  },
  {
   "cell_type": "code",
   "execution_count": 20,
   "id": "99a6a4ea-12d2-4af4-9af4-cfb94b4c5608",
   "metadata": {},
   "outputs": [
    {
     "name": "stdout",
     "output_type": "stream",
     "text": [
      "varun\n",
      "thanu\n",
      "veena\n",
      "none\n",
      "none\n"
     ]
    }
   ],
   "source": [
    "l1=[\"varun\",\"thanu\",\"veena\",\"jyothi\",\"teja\"]\n",
    "for i in l1:\n",
    "    if len(i)==5:\n",
    "       print(i)\n",
    "    else: \n",
    "       print(\"none\")    "
   ]
  },
  {
   "cell_type": "code",
   "execution_count": 22,
   "id": "2fcb20e4-8e41-41b5-8ee2-1346b93cd774",
   "metadata": {},
   "outputs": [
    {
     "name": "stdin",
     "output_type": "stream",
     "text": [
      "enter the string hima\n",
      "enter the string thanu\n",
      "enter the string varun\n",
      "enter the string uday\n",
      "enter the string eaj\n"
     ]
    },
    {
     "name": "stdout",
     "output_type": "stream",
     "text": [
      "thanu varun thanu varun\n"
     ]
    }
   ],
   "source": [
    "s1=input(\"enter the string\")\n",
    "s2=input(\"enter the string\")\n",
    "s3=input(\"enter the string\")\n",
    "s4=input(\"enter the string\")\n",
    "s5=input(\"enter the string\")\n",
    "a=max(s1,s2)\n",
    "b=max(s3,s4)\n",
    "c=max(s5,a)\n",
    "d=max(s5,b)\n",
    "print(a,b,c,d)\n"
   ]
  },
  {
   "cell_type": "markdown",
   "id": "7bf22830-9e61-4e75-8a63-6b6e96533784",
   "metadata": {},
   "source": [
    "# Python Collections"
   ]
  },
  {
   "cell_type": "code",
   "execution_count": 14,
   "id": "9889860e-aa3a-477c-872c-124d8f18b47c",
   "metadata": {},
   "outputs": [
    {
     "name": "stdout",
     "output_type": "stream",
     "text": [
      "[7, 9, 11, 13]\n"
     ]
    }
   ],
   "source": [
    "l1=[1,2,3,4]\n",
    "l2=[6,7,8,9]\n",
    "print([l1[0]+l2[0],l1[1]+l2[1],l1[2]+l2[2],l1[3]+l2[3]])"
   ]
  },
  {
   "cell_type": "code",
   "execution_count": 15,
   "id": "2e9a1f49-ae89-4b97-8f1f-e7037ab11a34",
   "metadata": {},
   "outputs": [
    {
     "name": "stdout",
     "output_type": "stream",
     "text": [
      "l1= [10] l2= [10] data is avaialable in both the lists\n"
     ]
    }
   ],
   "source": [
    "l1=[]\n",
    "l2=[]\n",
    "if l1==[] and l2==[]:\n",
    "   l1.append(10)\n",
    "   l2.append(10)\n",
    "   print(\"l1=\",l1,\"l2=\",l2,\"data is avaialable in both the lists\") \n",
    "else:\n",
    "   print(l1,l2,\"data is avaialable in both lists\")"
   ]
  },
  {
   "cell_type": "code",
   "execution_count": 16,
   "id": "01c52a64-9f1e-4f49-9df0-1efe65201b24",
   "metadata": {},
   "outputs": [
    {
     "name": "stdout",
     "output_type": "stream",
     "text": [
      "[11, 22, 33, 44]\n"
     ]
    }
   ],
   "source": [
    "l1=[1,2,3,4,5]\n",
    "l2=[10,20,30,40]\n",
    "l12=list(map(lambda x,y:x+y,l1,l2))\n",
    "print(l12)"
   ]
  },
  {
   "cell_type": "code",
   "execution_count": 18,
   "id": "afa4d297-92dd-472f-b858-308bfed1c07a",
   "metadata": {},
   "outputs": [
    {
     "name": "stdout",
     "output_type": "stream",
     "text": [
      "name quantity price\n",
      "java 10 400 \n",
      " python \n",
      " 15 \n",
      " 500 "
     ]
    },
    {
     "name": "stdin",
     "output_type": "stream",
     "text": [
      "\n",
      "  book want to purchase: java\n",
      "quantity: 1\n",
      "\n",
      "  book want to purchase: python\n",
      "quantity: 2\n"
     ]
    },
    {
     "name": "stdout",
     "output_type": "stream",
     "text": [
      "{'book name': 'java', 'quantity': 1, 'amount': 400}\n",
      "{'book name': 'python', 'quantity': 2, 'amount': 1000}\n",
      "9 books left in java\n",
      "13 books left in python\n"
     ]
    }
   ],
   "source": [
    "book1={'name':'java','quantity':10,'price':400}\n",
    "book2={'name':'python','quantity':15,'price':500}\n",
    "print(\"name quantity price\") \n",
    "for x in book1:\n",
    "    print( book1[x],end=\" \")\n",
    "for y in book2:\n",
    "    print(\"\\n\",book2[y],end=\" \")\n",
    "a=input(\"\\n  book want to purchase:\")\n",
    "b=int(input(\"quantity:\"))\n",
    "purchase1={\"book name\":a,\"quantity\":b,\"amount\":book1.get(\"price\")*b} \n",
    "x=input(\"\\n  book want to purchase:\")\n",
    "y=int(input(\"quantity:\"))\n",
    "purchase2={\"book name\":x,\"quantity\":y,\"amount\":book2.get(\"price\")*y}\n",
    "print(purchase1)\n",
    "print(purchase2)\n",
    "print(book1.get(\"quantity\")-purchase1.get(\"quantity\"),\"books left in java\")\n",
    "print(book2.get(\"quantity\")-purchase2.get(\"quantity\"),\"books left in python\")"
   ]
  },
  {
   "cell_type": "code",
   "execution_count": 23,
   "id": "dd17e5a1-89ff-47bd-8de6-359e70734dbb",
   "metadata": {},
   "outputs": [
    {
     "name": "stdout",
     "output_type": "stream",
     "text": [
      "345 [345, 789, 245]\n"
     ]
    }
   ],
   "source": [
    "n=[245,789,345]\n",
    "for i in n:\n",
    "    a=n[:i]\n",
    "    b=n[::-1]\n",
    "print(i,b)\n",
    "    "
   ]
  },
  {
   "cell_type": "code",
   "execution_count": 29,
   "id": "15525550-2696-40a8-86c5-e99834540d12",
   "metadata": {},
   "outputs": [
    {
     "name": "stdin",
     "output_type": "stream",
     "text": [
      "enter: Jyothi\n",
      "enter: 21\n",
      "enter: Nellore\n"
     ]
    },
    {
     "name": "stdout",
     "output_type": "stream",
     "text": [
      "{'name': 'Jyothi', 'age': '21', 'location': 'Nellore'}\n"
     ]
    }
   ],
   "source": [
    "## d1={}\n",
    "l1=[\"name\",\"age\",\"location\"]\n",
    "for i in l1:\n",
    "   d1[i]=input(\"enter:\"\"\")\n",
    "print(d1)"
   ]
  },
  {
   "cell_type": "code",
   "execution_count": 3,
   "id": "d4b93705-b32b-4e7c-8caa-2d172eae682d",
   "metadata": {},
   "outputs": [
    {
     "name": "stdout",
     "output_type": "stream",
     "text": [
      "<class 'int'>\n",
      "<class 'int'>\n",
      "<class 'int'>\n",
      "<class 'int'>\n",
      "<class 'list'>\n",
      "{1: 2, 2: 2, 3: 2, 4: 1}\n"
     ]
    }
   ],
   "source": [
    "list1=[1,2,3,4,[1,2,3]]\n",
    "list2={}\n",
    "for i in list1:\n",
    "    print(type(i))\n",
    "    if type(i)==list:\n",
    "        for j in i:\n",
    "            if j in list2:\n",
    "                list2[j]+=1\n",
    "            else:\n",
    "                list2[j]=1\n",
    "    else:\n",
    "        if i in list2:\n",
    "            list2[i]+=1\n",
    "        else:\n",
    "            list2[i]=1\n",
    "print(list2)"
   ]
  },
  {
   "cell_type": "code",
   "execution_count": 30,
   "id": "8b3e5661-7bc3-44df-8154-7de99d01c48f",
   "metadata": {},
   "outputs": [
    {
     "name": "stdout",
     "output_type": "stream",
     "text": [
      "[9]\n"
     ]
    }
   ],
   "source": [
    "l1=[1,2,3,4,5,1,2,4,5,5,5,2,2]\n",
    "s1=[1,2,4,5]\n",
    "a=[len(l1)-len(s1)]\n",
    "print(a)"
   ]
  },
  {
   "cell_type": "code",
   "execution_count": 4,
   "id": "73a367cb-573c-49f4-be1d-fe644b23b5f0",
   "metadata": {},
   "outputs": [
    {
     "name": "stdout",
     "output_type": "stream",
     "text": [
      "[(4, 3), (-1, 8)]\n"
     ]
    }
   ],
   "source": [
    "list=[2,4,3,5,6,-1,8]\n",
    "sum=7\n",
    "new_list=[]\n",
    "for i in range(len(list)-1):\n",
    "    if list[i]+list[i+1]==sum:\n",
    "        new_list+=[(list[i],list[i+1])]\n",
    "print(new_list)"
   ]
  },
  {
   "cell_type": "code",
   "execution_count": 32,
   "id": "894f6e30-1cde-4aaf-822c-d789c534ab2e",
   "metadata": {},
   "outputs": [
    {
     "name": "stdout",
     "output_type": "stream",
     "text": [
      "1\n"
     ]
    }
   ],
   "source": [
    "l=[2,1,2,[1,2,3],3,4,2]\n",
    "count=0\n",
    "for i in l:\n",
    "    count=count+1\n",
    "print(l.count(3))"
   ]
  },
  {
   "cell_type": "code",
   "execution_count": 33,
   "id": "5946f15e-dd8e-4e72-8982-92b55c5e560f",
   "metadata": {},
   "outputs": [
    {
     "name": "stdout",
     "output_type": "stream",
     "text": [
      "[(4, 3), (-1, 8)]\n"
     ]
    }
   ],
   "source": [
    "l=[2,4,3,5,6,-1,8]\n",
    "sum=7\n",
    "n=[]\n",
    "for i in range(len(l)-1):\n",
    "    if l[i]+l[i+1]==sum:\n",
    "       n+=[(l[i],l[i+1])]\n",
    "print(n)"
   ]
  },
  {
   "cell_type": "code",
   "execution_count": 1,
   "id": "8d79a7c1-d3e0-4195-9fa5-8242bee72ab1",
   "metadata": {},
   "outputs": [
    {
     "name": "stdout",
     "output_type": "stream",
     "text": [
      "data is available in both the list\n"
     ]
    }
   ],
   "source": [
    "l1=[]\n",
    "l2=[]\n",
    "if l1==[] and l2==[]:\n",
    "   l1.append(10)\n",
    "   l2.append(10)\n",
    "   print(\"data is available in both the list\")\n",
    "else:\n",
    "   print(\"data is not available\")"
   ]
  },
  {
   "cell_type": "code",
   "execution_count": 5,
   "id": "66033cb7-1288-4684-ba47-f67fb1f5a0f4",
   "metadata": {},
   "outputs": [
    {
     "name": "stdout",
     "output_type": "stream",
     "text": [
      "2\n"
     ]
    }
   ],
   "source": [
    "my_dict = {'a': 1, 'b': 2, 'c': 3}\n",
    "key=\"b\"\n",
    "if key in my_dict:\n",
    "    print(my_dict[key])\n",
    "else:\n",
    "    print(\"not found\")"
   ]
  },
  {
   "cell_type": "code",
   "execution_count": 3,
   "id": "5b2a11cb-296c-4525-9dcc-2656ce2c4b6d",
   "metadata": {},
   "outputs": [],
   "source": [
    "def maxchar(s):\n",
    "    m={}\n",
    "    n=len(s)\n",
    "    a=''\n",
    "    c=0\n",
    "    for i in range(n):\n",
    "        if s in m:\n",
    "           m=m+1\n",
    "        else:\n",
    "           m=1\n",
    "    if c<m[s]:\n",
    "       a=s[i]\n",
    "       c=m[s[i]]\n",
    "       print(a,\"more times occured\")"
   ]
  },
  {
   "cell_type": "markdown",
   "id": "d916762b-a02c-4ddc-8275-a21f14287312",
   "metadata": {},
   "source": [
    "# Palindrome"
   ]
  },
  {
   "cell_type": "code",
   "execution_count": 1,
   "id": "78c6f327-d45d-4c2c-85ca-109cd244344d",
   "metadata": {},
   "outputs": [
    {
     "name": "stdout",
     "output_type": "stream",
     "text": [
      "12321\n",
      "palindrome\n"
     ]
    }
   ],
   "source": [
    "n=12321\n",
    "c=str(n)[::-1]\n",
    "print(c)\n",
    "if c==str(n):\n",
    "    print(\"palindrome\")\n",
    "else:\n",
    "    print(\"not palindrome\")"
   ]
  },
  {
   "cell_type": "markdown",
   "id": "5286dba9-a2d8-415c-bdd8-27722c6a1ed4",
   "metadata": {},
   "source": [
    "# Functional programming tools"
   ]
  },
  {
   "cell_type": "code",
   "execution_count": 1,
   "id": "1ccf449b-20a4-493f-b7d2-1b411011a7c5",
   "metadata": {},
   "outputs": [
    {
     "name": "stdout",
     "output_type": "stream",
     "text": [
      "[11, 22, 33, 44]\n"
     ]
    }
   ],
   "source": [
    "l1=[1,2,3,4,5]\n",
    "l2=[10,20,30,40]\n",
    "l12=list(map(lambda x,y:x+y,l1,l2))\n",
    "print(l12)"
   ]
  },
  {
   "cell_type": "code",
   "execution_count": 2,
   "id": "1534d645-0f75-4f90-8e78-08162e51db3b",
   "metadata": {},
   "outputs": [
    {
     "name": "stdout",
     "output_type": "stream",
     "text": [
      "[3.6, 5.58, 4.009, 56.2424, 9.01344]\n"
     ]
    }
   ],
   "source": [
    "circle_areas=(3.56773,5.57668,4.00914,56.24241,9.01344)\n",
    "result=list(map(round,circle_areas,range(1,7)))\n",
    "print(result)"
   ]
  },
  {
   "cell_type": "code",
   "execution_count": 5,
   "id": "e9ca4372-48ec-45a5-b6d0-d7b839330e48",
   "metadata": {},
   "outputs": [
    {
     "name": "stdout",
     "output_type": "stream",
     "text": [
      "68\n"
     ]
    }
   ],
   "source": [
    "from functools import reduce\n",
    "numbers=[3,4,6,9,34,12]\n",
    "def add_num(n1,n2):\n",
    "    return n1+n2\n",
    "result=reduce(add_num,numbers)\n",
    "print(result)"
   ]
  },
  {
   "cell_type": "code",
   "execution_count": 3,
   "id": "7b4bd67d-5b16-4a92-af7e-533465eeac6a",
   "metadata": {},
   "outputs": [
    {
     "name": "stdout",
     "output_type": "stream",
     "text": [
      "[11, 22, 33, 44]\n"
     ]
    }
   ],
   "source": [
    "l1=[1,2,3,4,5]\n",
    "l2=[10,20,30,40]\n",
    "l12=list(map(lambda x,y:x+y,l1,l2))\n",
    "print(l12)"
   ]
  },
  {
   "cell_type": "code",
   "execution_count": 4,
   "id": "fe31905d-29d3-45dd-b74b-27cee78aa34a",
   "metadata": {},
   "outputs": [
    {
     "name": "stdout",
     "output_type": "stream",
     "text": [
      "['madam', 'mom', 'radar']\n"
     ]
    }
   ],
   "source": [
    "st1=[\"madam\",\"mom\",\"kiran\",\"ashok\",\"radar\"]\n",
    "palin_str=list(filter(lambda x:x==x[::-1],st1))\n",
    "print(palin_str)"
   ]
  },
  {
   "cell_type": "code",
   "execution_count": null,
   "id": "8e5263c5-539c-4d5b-8833-26bdcee73f1a",
   "metadata": {},
   "outputs": [],
   "source": []
  }
 ],
 "metadata": {
  "kernelspec": {
   "display_name": "Python 3 (ipykernel)",
   "language": "python",
   "name": "python3"
  },
  "language_info": {
   "codemirror_mode": {
    "name": "ipython",
    "version": 3
   },
   "file_extension": ".py",
   "mimetype": "text/x-python",
   "name": "python",
   "nbconvert_exporter": "python",
   "pygments_lexer": "ipython3",
   "version": "3.12.7"
  }
 },
 "nbformat": 4,
 "nbformat_minor": 5
}
